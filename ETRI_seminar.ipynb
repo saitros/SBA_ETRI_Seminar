{
 "cells": [
  {
   "cell_type": "code",
   "execution_count": 1,
   "metadata": {},
   "outputs": [],
   "source": [
    "import urllib3\n",
    "import json\n",
    "\n",
    "from konlpy.tag import Okt, Kkma, Hannanum, Komoran, Mecab\n",
    "from khaiii import KhaiiiApi\n",
    "from soynlp import pos"
   ]
  },
  {
   "cell_type": "code",
   "execution_count": 2,
   "metadata": {},
   "outputs": [],
   "source": [
    "ACCESSKEY = \"4ee51c5e-7d13-4f91-9516-5f68c4fe26f3\"\n",
    "\n",
    "# Token 1000 \n",
    "with open('small.txt', 'r') as sf:\n",
    "    small_text = sf.read()\n",
    "\n",
    "# Token 5000    \n",
    "with open('half.txt', 'r') as hf:\n",
    "    half_text = hf.read()\n",
    "    \n",
    "# Token 10000\n",
    "with open('wiki.txt', 'r') as f:\n",
    "    text = f.read()\n",
    "\n",
    "# Token 10000\n",
    "with open('large.txt', 'r') as lf:\n",
    "    large_text = lf.read()"
   ]
  },
  {
   "cell_type": "code",
   "execution_count": 3,
   "metadata": {},
   "outputs": [],
   "source": [
    "def etri_morp_api(text):\n",
    "    URL = \"http://aiopen.etri.re.kr:8000/WiseNLU\"\n",
    "    CODE = \"morp\"\n",
    "    \n",
    "    requestJson = {\n",
    "    \"access_key\" : ACCESSKEY,\n",
    "    'argument' : {\n",
    "        \"text\" : text,\n",
    "        \"analysis_code\" : CODE\n",
    "        }\n",
    "    }\n",
    "    http = urllib3.PoolManager()\n",
    "    response = http.request(\"POST\", URL, headers={\n",
    "    \"Content-Type\":\"application/json; charset=UTF-8\"\n",
    "}, body = json.dumps(requestJson))\n",
    "\n",
    "    etri_data = json.loads(str(response.data, \"utf-8\"))['return_object']['sentence']\n",
    "      \n",
    "#     for i in range(len(a)):\n",
    "#         for m in range(len(a[i]['morp'])):\n",
    "#             #print(a[i]['dependency'][m])\n",
    "#             etri_data.append((a[i]['morp'][m]['lemma'], a[i]['morp'][m]['type']))\n",
    "            \n",
    "    return [(t['lemma'], t['type']) for i in etri_data for t in i['morp']]"
   ]
  },
  {
   "cell_type": "code",
   "execution_count": 4,
   "metadata": {},
   "outputs": [
    {
     "name": "stderr",
     "output_type": "stream",
     "text": [
      "/home/ubuntu/anaconda3/envs/juns/lib/python3.6/site-packages/jpype/_core.py:210: UserWarning: \n",
      "-------------------------------------------------------------------------------\n",
      "Deprecated: convertStrings was not specified when starting the JVM. The default\n",
      "behavior in JPype will be False starting in JPype 0.8. The recommended setting\n",
      "for new code is convertStrings=False.  The legacy value of True was assumed for\n",
      "this session. If you are a user of an application that reported this warning,\n",
      "please file a ticket with the developer.\n",
      "-------------------------------------------------------------------------------\n",
      "\n",
      "  \"\"\")\n"
     ]
    }
   ],
   "source": [
    "twitter = Okt()\n",
    "kkma = Kkma()\n",
    "hana = Hannanum()\n",
    "komo = Komoran()\n",
    "kakao = KhaiiiApi()\n",
    "mecab = Mecab()"
   ]
  },
  {
   "cell_type": "markdown",
   "metadata": {},
   "source": [
    "# 형태소 분석기 성능 분석\n",
    "\n",
    "각 형태소 분석기(ETRI, Okt, Kkma, Hannanum, Komoran, Khaiii, Mecab) 별로 \n",
    "\n",
    "\n",
    "small_text, half_text, text, large_text\n",
    "(1000, 5000, 10000, 100000)\n",
    "\n",
    "\n",
    "형태소 분석 실행시간을 반환합니다\n",
    "\n",
    "단, Etri API의 1회 최대 처리 분량이 10000개이므로 10만개에 대해서는 코드 실행 결과 X"
   ]
  },
  {
   "cell_type": "code",
   "execution_count": 5,
   "metadata": {},
   "outputs": [
    {
     "name": "stdout",
     "output_type": "stream",
     "text": [
      "255 ms ± 11 ms per loop (mean ± std. dev. of 5 runs, 2 loops each)\n"
     ]
    }
   ],
   "source": [
    "%%timeit -n 2 -r 5\n",
    "etri_morp_api(small_text)"
   ]
  },
  {
   "cell_type": "code",
   "execution_count": 6,
   "metadata": {},
   "outputs": [
    {
     "name": "stdout",
     "output_type": "stream",
     "text": [
      "805 ms ± 86 ms per loop (mean ± std. dev. of 5 runs, 2 loops each)\n"
     ]
    }
   ],
   "source": [
    "%%timeit -n 2 -r 5\n",
    "etri_morp_api(half_text)"
   ]
  },
  {
   "cell_type": "code",
   "execution_count": 7,
   "metadata": {},
   "outputs": [
    {
     "name": "stdout",
     "output_type": "stream",
     "text": [
      "1.35 s ± 30.5 ms per loop (mean ± std. dev. of 10 runs, 2 loops each)\n"
     ]
    }
   ],
   "source": [
    "%%timeit -n 2 -r 10\n",
    "etri_morp_api(text)"
   ]
  },
  {
   "cell_type": "code",
   "execution_count": 8,
   "metadata": {},
   "outputs": [
    {
     "name": "stdout",
     "output_type": "stream",
     "text": [
      "The slowest run took 49.38 times longer than the fastest. This could mean that an intermediate result is being cached.\n",
      "840 ms ± 1.45 s per loop (mean ± std. dev. of 5 runs, 2 loops each)\n"
     ]
    }
   ],
   "source": [
    "%%timeit -n 2 -r 5\n",
    "a = twitter.pos(small_text)"
   ]
  },
  {
   "cell_type": "code",
   "execution_count": 9,
   "metadata": {},
   "outputs": [
    {
     "name": "stdout",
     "output_type": "stream",
     "text": [
      "414 ms ± 79.2 ms per loop (mean ± std. dev. of 5 runs, 2 loops each)\n"
     ]
    }
   ],
   "source": [
    "%%timeit -n 2 -r 5\n",
    "a = twitter.pos(half_text)"
   ]
  },
  {
   "cell_type": "code",
   "execution_count": 10,
   "metadata": {},
   "outputs": [
    {
     "name": "stdout",
     "output_type": "stream",
     "text": [
      "710 ms ± 47.5 ms per loop (mean ± std. dev. of 5 runs, 3 loops each)\n"
     ]
    }
   ],
   "source": [
    "%%timeit -n 3 -r 5\n",
    "a = twitter.pos(text)"
   ]
  },
  {
   "cell_type": "code",
   "execution_count": 11,
   "metadata": {},
   "outputs": [
    {
     "name": "stdout",
     "output_type": "stream",
     "text": [
      "6.11 s ± 345 ms per loop (mean ± std. dev. of 5 runs, 2 loops each)\n"
     ]
    }
   ],
   "source": [
    "%%timeit -n 2 -r 5\n",
    "a = twitter.pos(large_text)"
   ]
  },
  {
   "cell_type": "code",
   "execution_count": 12,
   "metadata": {},
   "outputs": [
    {
     "name": "stdout",
     "output_type": "stream",
     "text": [
      "The slowest run took 11.78 times longer than the fastest. This could mean that an intermediate result is being cached.\n",
      "1.53 s ± 1.9 s per loop (mean ± std. dev. of 5 runs, 2 loops each)\n"
     ]
    }
   ],
   "source": [
    "%%timeit -n 2 -r 5\n",
    "b = kkma.pos(small_text)"
   ]
  },
  {
   "cell_type": "code",
   "execution_count": 13,
   "metadata": {},
   "outputs": [
    {
     "name": "stdout",
     "output_type": "stream",
     "text": [
      "2.5 s ± 265 ms per loop (mean ± std. dev. of 5 runs, 2 loops each)\n"
     ]
    }
   ],
   "source": [
    "%%timeit -n 2 -r 5\n",
    "b = kkma.pos(half_text)"
   ]
  },
  {
   "cell_type": "code",
   "execution_count": 14,
   "metadata": {
    "scrolled": true
   },
   "outputs": [
    {
     "name": "stdout",
     "output_type": "stream",
     "text": [
      "5.2 s ± 494 ms per loop (mean ± std. dev. of 5 runs, 2 loops each)\n"
     ]
    }
   ],
   "source": [
    "%%timeit -n 2 -r 5\n",
    "c = kkma.pos(text)"
   ]
  },
  {
   "cell_type": "code",
   "execution_count": 15,
   "metadata": {},
   "outputs": [
    {
     "name": "stdout",
     "output_type": "stream",
     "text": [
      "51.8 s ± 413 ms per loop (mean ± std. dev. of 5 runs, 2 loops each)\n"
     ]
    }
   ],
   "source": [
    "%%timeit -n 2 -r 5\n",
    "b = kkma.pos(large_text)"
   ]
  },
  {
   "cell_type": "code",
   "execution_count": 16,
   "metadata": {},
   "outputs": [
    {
     "name": "stdout",
     "output_type": "stream",
     "text": [
      "The slowest run took 25.77 times longer than the fastest. This could mean that an intermediate result is being cached.\n",
      "315 ms ± 468 ms per loop (mean ± std. dev. of 5 runs, 2 loops each)\n"
     ]
    }
   ],
   "source": [
    "%%timeit -n 2 -r 5\n",
    "d = hana.pos(small_text)"
   ]
  },
  {
   "cell_type": "code",
   "execution_count": 17,
   "metadata": {},
   "outputs": [
    {
     "name": "stdout",
     "output_type": "stream",
     "text": [
      "The slowest run took 7.03 times longer than the fastest. This could mean that an intermediate result is being cached.\n",
      "588 ms ± 486 ms per loop (mean ± std. dev. of 5 runs, 2 loops each)\n"
     ]
    }
   ],
   "source": [
    "%%timeit -n 2 -r 5\n",
    "d = hana.pos(half_text)"
   ]
  },
  {
   "cell_type": "code",
   "execution_count": 18,
   "metadata": {},
   "outputs": [
    {
     "name": "stdout",
     "output_type": "stream",
     "text": [
      "759 ms ± 110 ms per loop (mean ± std. dev. of 5 runs, 2 loops each)\n"
     ]
    }
   ],
   "source": [
    "%%timeit -n 2 -r 5\n",
    "d = hana.pos(text)"
   ]
  },
  {
   "cell_type": "code",
   "execution_count": 19,
   "metadata": {},
   "outputs": [
    {
     "name": "stdout",
     "output_type": "stream",
     "text": [
      "11.9 s ± 460 ms per loop (mean ± std. dev. of 5 runs, 2 loops each)\n"
     ]
    }
   ],
   "source": [
    "%%timeit -n 2 -r 5\n",
    "d = hana.pos(large_text)"
   ]
  },
  {
   "cell_type": "code",
   "execution_count": 20,
   "metadata": {},
   "outputs": [
    {
     "name": "stdout",
     "output_type": "stream",
     "text": [
      "The slowest run took 6.91 times longer than the fastest. This could mean that an intermediate result is being cached.\n",
      "62 ms ± 42.3 ms per loop (mean ± std. dev. of 5 runs, 2 loops each)\n"
     ]
    }
   ],
   "source": [
    "%%timeit -n 2 -r 5\n",
    "komo_data = komo.pos(small_text)"
   ]
  },
  {
   "cell_type": "code",
   "execution_count": 21,
   "metadata": {},
   "outputs": [
    {
     "name": "stdout",
     "output_type": "stream",
     "text": [
      "The slowest run took 5.42 times longer than the fastest. This could mean that an intermediate result is being cached.\n",
      "196 ms ± 143 ms per loop (mean ± std. dev. of 5 runs, 2 loops each)\n"
     ]
    }
   ],
   "source": [
    "%%timeit -n 2 -r 5\n",
    "komo_data = komo.pos(half_text)"
   ]
  },
  {
   "cell_type": "code",
   "execution_count": 22,
   "metadata": {},
   "outputs": [
    {
     "name": "stdout",
     "output_type": "stream",
     "text": [
      "354 ms ± 156 ms per loop (mean ± std. dev. of 5 runs, 2 loops each)\n"
     ]
    }
   ],
   "source": [
    "%%timeit -n 2 -r 5\n",
    "komo_data = komo.pos(text)"
   ]
  },
  {
   "cell_type": "code",
   "execution_count": 23,
   "metadata": {},
   "outputs": [
    {
     "name": "stdout",
     "output_type": "stream",
     "text": [
      "3.62 s ± 160 ms per loop (mean ± std. dev. of 5 runs, 2 loops each)\n"
     ]
    }
   ],
   "source": [
    "%%timeit -n 2 -r 5\n",
    "komo_data = komo.pos(large_text)"
   ]
  },
  {
   "cell_type": "code",
   "execution_count": 24,
   "metadata": {},
   "outputs": [
    {
     "name": "stdout",
     "output_type": "stream",
     "text": [
      "34.6 ms ± 21.6 ms per loop (mean ± std. dev. of 5 runs, 2 loops each)\n"
     ]
    }
   ],
   "source": [
    "%%timeit -n 2 -r 5\n",
    "for token in kakao.analyze(small_text):\n",
    "    token"
   ]
  },
  {
   "cell_type": "code",
   "execution_count": 25,
   "metadata": {},
   "outputs": [
    {
     "name": "stdout",
     "output_type": "stream",
     "text": [
      "144 ms ± 19.9 ms per loop (mean ± std. dev. of 5 runs, 2 loops each)\n"
     ]
    }
   ],
   "source": [
    "%%timeit -n 2 -r 5\n",
    "for token in kakao.analyze(half_text):\n",
    "    token"
   ]
  },
  {
   "cell_type": "code",
   "execution_count": 26,
   "metadata": {},
   "outputs": [
    {
     "name": "stdout",
     "output_type": "stream",
     "text": [
      "303 ms ± 45.3 ms per loop (mean ± std. dev. of 5 runs, 2 loops each)\n"
     ]
    }
   ],
   "source": [
    "%%timeit -n 2 -r 5\n",
    "for token in kakao.analyze(text):\n",
    "    token"
   ]
  },
  {
   "cell_type": "code",
   "execution_count": 27,
   "metadata": {},
   "outputs": [
    {
     "name": "stdout",
     "output_type": "stream",
     "text": [
      "2.72 s ± 182 ms per loop (mean ± std. dev. of 5 runs, 2 loops each)\n"
     ]
    }
   ],
   "source": [
    "%%timeit -n 2 -r 5\n",
    "for token in kakao.analyze(large_text):\n",
    "    token"
   ]
  },
  {
   "cell_type": "code",
   "execution_count": 28,
   "metadata": {},
   "outputs": [
    {
     "name": "stdout",
     "output_type": "stream",
     "text": [
      "The slowest run took 13.30 times longer than the fastest. This could mean that an intermediate result is being cached.\n",
      "7.98 ms ± 7.79 ms per loop (mean ± std. dev. of 5 runs, 3 loops each)\n"
     ]
    }
   ],
   "source": [
    "%%timeit -n 3 -r 5\n",
    "mecab_data = mecab.pos(small_text)"
   ]
  },
  {
   "cell_type": "code",
   "execution_count": 29,
   "metadata": {},
   "outputs": [
    {
     "name": "stdout",
     "output_type": "stream",
     "text": [
      "22.5 ms ± 7.84 ms per loop (mean ± std. dev. of 5 runs, 2 loops each)\n"
     ]
    }
   ],
   "source": [
    "%%timeit -n 2 -r 5\n",
    "mecab_data = mecab.pos(half_text)"
   ]
  },
  {
   "cell_type": "code",
   "execution_count": 30,
   "metadata": {},
   "outputs": [
    {
     "name": "stdout",
     "output_type": "stream",
     "text": [
      "38.4 ms ± 11.2 ms per loop (mean ± std. dev. of 10 runs, 3 loops each)\n"
     ]
    }
   ],
   "source": [
    "%%timeit -n 3 -r 10\n",
    "mecab_data = mecab.pos(text)"
   ]
  },
  {
   "cell_type": "code",
   "execution_count": 31,
   "metadata": {},
   "outputs": [
    {
     "name": "stdout",
     "output_type": "stream",
     "text": [
      "377 ms ± 72.5 ms per loop (mean ± std. dev. of 5 runs, 2 loops each)\n"
     ]
    }
   ],
   "source": [
    "%%timeit -n 2 -r 5\n",
    "mecab_data = mecab.pos(large_text)"
   ]
  },
  {
   "cell_type": "markdown",
   "metadata": {},
   "source": [
    "# 신조어 분석 TASK"
   ]
  },
  {
   "cell_type": "code",
   "execution_count": 32,
   "metadata": {},
   "outputs": [],
   "source": [
    "sinjo_text = \"오늘 시험은 완전 멘붕이였는데, 완전 케바케더라\""
   ]
  },
  {
   "cell_type": "code",
   "execution_count": 33,
   "metadata": {},
   "outputs": [
    {
     "data": {
      "text/plain": [
       "[('오늘', 'NNG'),\n",
       " ('시험', 'NNG'),\n",
       " ('은', 'JX'),\n",
       " ('완전', 'NNG'),\n",
       " ('멘붕이', 'NNG'),\n",
       " ('이', 'VCP'),\n",
       " ('었', 'EP'),\n",
       " ('는데', 'EC'),\n",
       " (',', 'SP'),\n",
       " ('완전', 'NNG'),\n",
       " ('케바케더라', 'NNP')]"
      ]
     },
     "execution_count": 33,
     "metadata": {},
     "output_type": "execute_result"
    }
   ],
   "source": [
    "etri_morp_api(sinjo_text)"
   ]
  },
  {
   "cell_type": "code",
   "execution_count": 34,
   "metadata": {},
   "outputs": [
    {
     "data": {
      "text/plain": [
       "[('오늘', 'Noun'),\n",
       " ('시험', 'Noun'),\n",
       " ('은', 'Josa'),\n",
       " ('완전', 'Noun'),\n",
       " ('멘붕', 'Noun'),\n",
       " ('이', 'Josa'),\n",
       " ('였는데', 'Verb'),\n",
       " (',', 'Punctuation'),\n",
       " ('완전', 'Noun'),\n",
       " ('케바케', 'Noun'),\n",
       " ('더', 'Noun'),\n",
       " ('라', 'Josa')]"
      ]
     },
     "execution_count": 34,
     "metadata": {},
     "output_type": "execute_result"
    }
   ],
   "source": [
    "twitter.pos(sinjo_text)"
   ]
  },
  {
   "cell_type": "code",
   "execution_count": 35,
   "metadata": {},
   "outputs": [
    {
     "data": {
      "text/plain": [
       "[('오늘', 'NNG'),\n",
       " ('시험', 'NNG'),\n",
       " ('은', 'JX'),\n",
       " ('완전', 'NNG'),\n",
       " ('메', 'VV'),\n",
       " ('ㄴ', 'ETD'),\n",
       " ('붕', 'MAG'),\n",
       " ('이', 'VCP'),\n",
       " ('였', 'EPT'),\n",
       " ('는데', 'ECD'),\n",
       " (',', 'SP'),\n",
       " ('완전', 'NNG'),\n",
       " ('하', 'XSA'),\n",
       " ('게', 'ECD'),\n",
       " ('바', 'NNG'),\n",
       " ('하', 'XSV'),\n",
       " ('게', 'ECD'),\n",
       " ('더', 'MAG'),\n",
       " ('라', 'NNG')]"
      ]
     },
     "execution_count": 35,
     "metadata": {},
     "output_type": "execute_result"
    }
   ],
   "source": [
    "kkma.pos(sinjo_text)"
   ]
  },
  {
   "cell_type": "code",
   "execution_count": 36,
   "metadata": {},
   "outputs": [
    {
     "data": {
      "text/plain": [
       "[('오늘', 'NNG'),\n",
       " ('시험', 'NNG'),\n",
       " ('은', 'JX'),\n",
       " ('완전', 'NNG'),\n",
       " ('멘붕', 'NNP'),\n",
       " ('이', 'NNP'),\n",
       " ('이', 'VCP'),\n",
       " ('었', 'EP'),\n",
       " ('는데', 'EC'),\n",
       " (',', 'SP'),\n",
       " ('완전', 'NNG'),\n",
       " ('하', 'XSA'),\n",
       " ('게', 'EC'),\n",
       " ('바', 'NNB'),\n",
       " ('하', 'XSA'),\n",
       " ('게', 'EC'),\n",
       " ('덜', 'VV'),\n",
       " ('라', 'EC')]"
      ]
     },
     "execution_count": 36,
     "metadata": {},
     "output_type": "execute_result"
    }
   ],
   "source": [
    "komo.pos(sinjo_text)"
   ]
  },
  {
   "cell_type": "code",
   "execution_count": 37,
   "metadata": {},
   "outputs": [
    {
     "data": {
      "text/plain": [
       "[('오늘', 'N'),\n",
       " ('시험', 'N'),\n",
       " ('은', 'J'),\n",
       " ('완전', 'N'),\n",
       " ('멘붕이였는데,', 'N'),\n",
       " ('완전', 'N'),\n",
       " ('케바케', 'N'),\n",
       " ('이', 'J'),\n",
       " ('더라', 'E')]"
      ]
     },
     "execution_count": 37,
     "metadata": {},
     "output_type": "execute_result"
    }
   ],
   "source": [
    "hana.pos(sinjo_text)"
   ]
  },
  {
   "cell_type": "code",
   "execution_count": 38,
   "metadata": {},
   "outputs": [
    {
     "name": "stdout",
     "output_type": "stream",
     "text": [
      "오늘\t오늘/NNG\n",
      "시험은\t시험/NNG + 은/JX\n",
      "완전\t완전/NNG\n",
      "멘붕이였는데,\t멘붕/NNP + 이이/VCP + 었/EP + 는데/EC + ,/SP\n",
      "완전\t완전/NNG\n",
      "케바케더라\t케바케더/NNP + 라/EC\n"
     ]
    }
   ],
   "source": [
    "for token in kakao.analyze(sinjo_text):\n",
    "    print(token)"
   ]
  },
  {
   "cell_type": "code",
   "execution_count": 39,
   "metadata": {},
   "outputs": [
    {
     "data": {
      "text/plain": [
       "[('오늘', 'MAG'),\n",
       " ('시험', 'NNG'),\n",
       " ('은', 'JX'),\n",
       " ('완전', 'MAG'),\n",
       " ('멘붕', 'NNP'),\n",
       " ('이', 'VCP'),\n",
       " ('였', 'EP'),\n",
       " ('는데', 'EC'),\n",
       " (',', 'SC'),\n",
       " ('완전', 'MAG'),\n",
       " ('케', 'IC'),\n",
       " ('바케', 'NNP'),\n",
       " ('더라', 'VCP+EC')]"
      ]
     },
     "execution_count": 39,
     "metadata": {},
     "output_type": "execute_result"
    }
   ],
   "source": [
    "mecab.pos(sinjo_text)"
   ]
  },
  {
   "cell_type": "markdown",
   "metadata": {},
   "source": [
    "# ETRI 개체명 인식"
   ]
  },
  {
   "cell_type": "code",
   "execution_count": 65,
   "metadata": {},
   "outputs": [],
   "source": [
    "def etri_ner_api(text):\n",
    "    URL = \"http://aiopen.etri.re.kr:8000/WiseNLU\"\n",
    "    ACCESSKEY = \"4ee51c5e-7d13-4f91-9516-5f68c4fe26f3\"\n",
    "    CODE = \"ner\"\n",
    "    \n",
    "    requestJson = {\n",
    "    \"access_key\" : ACCESSKEY,\n",
    "    'argument' : {\n",
    "        \"text\" : text,\n",
    "        \"analysis_code\" : CODE\n",
    "        }\n",
    "    }\n",
    "    http = urllib3.PoolManager()\n",
    "    response = http.request(\"POST\", URL, headers={\n",
    "    \"Content-Type\":\"application/json; charset=UTF-8\"\n",
    "}, body = json.dumps(requestJson))\n",
    "\n",
    "    data = json.loads(str(response.data, \"utf-8\"))['return_object']['sentence'][0]['NE']\n",
    "    \n",
    "    ner_data = [data[i]['type'][:2] for i in range(len(data))]\n",
    "    \n",
    "    return ner_data"
   ]
  },
  {
   "cell_type": "code",
   "execution_count": 66,
   "metadata": {},
   "outputs": [
    {
     "data": {
      "text/plain": [
       "['DT', 'LC', 'TI', 'QT', 'PS']"
      ]
     },
     "execution_count": 66,
     "metadata": {},
     "output_type": "execute_result"
    }
   ],
   "source": [
    "etri_ner_api(\"다음주 월요일 강남역지점 7시 20분에 30명 이준호로 예약해줘\")"
   ]
  },
  {
   "cell_type": "code",
   "execution_count": 67,
   "metadata": {},
   "outputs": [
    {
     "data": {
      "text/plain": [
       "['LC', 'TI']"
      ]
     },
     "execution_count": 67,
     "metadata": {},
     "output_type": "execute_result"
    }
   ],
   "source": [
    "etri_ner_api(\"강남역점 7시 20분에 예약해줘\")"
   ]
  },
  {
   "cell_type": "code",
   "execution_count": 70,
   "metadata": {},
   "outputs": [],
   "source": [
    "def reservation_ner_check(text):\n",
    "    ner_list = etri_ner_api(\"강남역점 7시 20분에 예약해줘\")\n",
    "    reservation_ner = ['DT', 'LC', \"TI\", \"QT\", \"PS\"]\n",
    "    req_ner = []\n",
    "    for ner in reservation_ner:\n",
    "        if not ner in ner_list:\n",
    "            req_ner.append(ner)\n",
    "            \n",
    "    return req_ner"
   ]
  },
  {
   "cell_type": "code",
   "execution_count": 71,
   "metadata": {},
   "outputs": [
    {
     "data": {
      "text/plain": [
       "['DT', 'QT', 'PS']"
      ]
     },
     "execution_count": 71,
     "metadata": {},
     "output_type": "execute_result"
    }
   ],
   "source": [
    "reservation_ner_check(\"강남역점 7시 20분에 예약해줘\")"
   ]
  },
  {
   "cell_type": "code",
   "execution_count": 43,
   "metadata": {},
   "outputs": [],
   "source": [
    "def etri_wiki_qa_api(text):\n",
    "    openApiURL = \"http://aiopen.etri.re.kr:8000/WikiQA\"\n",
    "    \n",
    "    requestJson = {\n",
    "    \"access_key\" : ACCESSKEY,\n",
    "    'argument' : {\n",
    "        \"question\" : text,\n",
    "        \"type\" : 'hybridqa'\n",
    "        }\n",
    "    }\n",
    "    http = urllib3.PoolManager()\n",
    "    response = http.request(\"POST\", openApiURL, headers={\n",
    "    \"Content-Type\":\"application/json; charset=UTF-8\"\n",
    "}, body = json.dumps(requestJson))\n",
    "\n",
    "    data = json.loads(str(response.data, \"utf-8\"))\n",
    "    \n",
    "    return data['return_object']['WiKiInfo']['AnswerInfo'][0]['answer']"
   ]
  },
  {
   "cell_type": "code",
   "execution_count": 44,
   "metadata": {},
   "outputs": [
    {
     "name": "stdout",
     "output_type": "stream",
     "text": [
      "CPU times: user 8 ms, sys: 0 ns, total: 8 ms\n",
      "Wall time: 143 ms\n"
     ]
    },
    {
     "data": {
      "text/plain": [
       "'루트비히 판 베토벤(독일어: Ludwig van Beethoven, 문화어: 루드위히 판 베토벤, 1770년 12월 17일 ~ 1827년 3월 26일)은 독일의 서양 고전 음악 작곡가이다.'"
      ]
     },
     "execution_count": 44,
     "metadata": {},
     "output_type": "execute_result"
    }
   ],
   "source": [
    "%%time\n",
    "etri_wiki_qa_api('베토벤이 누구야?')"
   ]
  },
  {
   "cell_type": "code",
   "execution_count": 45,
   "metadata": {},
   "outputs": [
    {
     "data": {
      "text/plain": [
       "'김구(金九, 1876년 8월 29일 (음력 7월 11일) ~ 1949년 6월 26일)는 일제강점기 독립운동가이자 대한민국의 종교인, 교육자, 통일운동가, 정치인이다.'"
      ]
     },
     "execution_count": 45,
     "metadata": {},
     "output_type": "execute_result"
    }
   ],
   "source": [
    "etri_wiki_qa_api('김구가 누구야?')"
   ]
  },
  {
   "cell_type": "code",
   "execution_count": null,
   "metadata": {},
   "outputs": [],
   "source": []
  }
 ],
 "metadata": {
  "kernelspec": {
   "display_name": "Environment (conda_juns)",
   "language": "python",
   "name": "conda_juns"
  },
  "language_info": {
   "codemirror_mode": {
    "name": "ipython",
    "version": 3
   },
   "file_extension": ".py",
   "mimetype": "text/x-python",
   "name": "python",
   "nbconvert_exporter": "python",
   "pygments_lexer": "ipython3",
   "version": "3.6.8"
  }
 },
 "nbformat": 4,
 "nbformat_minor": 2
}
